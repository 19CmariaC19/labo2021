{
 "cells": [
  {
   "cell_type": "code",
   "execution_count": null,
   "metadata": {
    "papermill": {
     "duration": 1.629423,
     "end_time": "2020-09-04T19:00:49.168162",
     "exception": false,
     "start_time": "2020-09-04T19:00:47.538739",
     "status": "completed"
    },
    "tags": []
   },
   "outputs": [],
   "source": [
    "#limpio la memoria\n",
    "rm(list=ls())\n",
    "gc()\n",
    "\n",
    "#cargo librerias\n",
    "library(\"data.table\")\n",
    "library(\"ROCR\")\n",
    "library(\"rpart\")\n",
    "library(\"rpart.plot\")\n",
    "library(\"caret\")"
   ]
  },
  {
   "cell_type": "code",
   "execution_count": null,
   "metadata": {
    "papermill": {
     "duration": 0.279475,
     "end_time": "2020-09-04T19:00:49.466032",
     "exception": false,
     "start_time": "2020-09-04T19:00:49.186557",
     "status": "completed"
    },
    "tags": []
   },
   "outputs": [],
   "source": [
    "\n",
    "#Parametros entrada\n",
    "\n",
    "#kcarpeta_datasets    <- \"../input/laboratorio-de-implementacion-i-2021/\"   #KAGGLE\n",
    "kcarpeta_datasets    <- \"~/buckets/b1/datasets/\"                          #VM o Ubuntu\n",
    "\n",
    "#Archivo con datos etiquetados para entrenamiento\n",
    "karchivo_entrada      <-  paste0(kcarpeta_datasets, \"paquete_premium_202011.csv\")\n",
    "\n",
    "#Archivo con datos sin etiquetar para generar la predicción\n",
    "karchivo_predecir      <-  paste0(kcarpeta_datasets, \"paquete_premium_202101.csv\")\n",
    "\n",
    "#Formato para submit en Kaggle\n",
    "#karchivo_score      <-  \"../input/uamds2020ldi1f1/Sample_201910_Fase_I.txt\"\n",
    "\n",
    "#Separador de campos en archivos\n",
    "kcampos_separador     <-  \"\\t\"\n",
    "\n",
    "#Campo que identifica las muestras\n",
    "kcampo_id             <-  \"numero_de_cliente\"\n",
    "\n",
    "#Campo que contiene la clase a estimar\n",
    "kclase_nomcampo       <-  \"clase_ternaria\"\n",
    "\n",
    "#Valor de interés\n",
    "kclase_valor_positivo <-  \"BAJA+2\"\n",
    "\n",
    "#Campos a borrar para el entrenamiento\n",
    "kcampos_a_borrar      <-  c(kcampo_id,kclase_nomcampo,\"foto_mes\")\n",
    "\n",
    "#Campo que contendrá a la variable objetivo generada\n",
    "kobjetivo             <-  \"clase\"\n",
    "\n",
    "#Identificación del modelo\n",
    "kmodelo               <-  \"02-RPART\"\n",
    "\n",
    "#Ganancia por TP\n",
    "kTPGain               <-  48750\n",
    "\n",
    "#Pérdida por FP\n",
    "kFPGain               <-  -1250\n",
    "\n",
    "kSeed <- 0\n",
    "\n",
    "\n",
    "#Establezco semilla aleatoria\n",
    "set.seed(kSeed)\n",
    "\n"
   ]
  },
  {
   "cell_type": "code",
   "execution_count": null,
   "metadata": {
    "papermill": {
     "duration": 3.125502,
     "end_time": "2020-09-04T19:00:52.608890",
     "exception": false,
     "start_time": "2020-09-04T19:00:49.483388",
     "status": "completed"
    },
    "tags": []
   },
   "outputs": [],
   "source": [
    "#cargo los datos\n",
    "dataset <- fread(karchivo_entrada)\n",
    "\n",
    "#Para hacer pruebas rapidas puedo reducir el dataset a una fraccion\n",
    "#subsample <- sample(1:nrow(dataset), .1 * nrow(dataset))\n",
    "#dataset <- dataset[subsample,]"
   ]
  },
  {
   "cell_type": "code",
   "execution_count": null,
   "metadata": {
    "papermill": {
     "duration": 1.110089,
     "end_time": "2020-09-04T19:00:53.738438",
     "exception": false,
     "start_time": "2020-09-04T19:00:52.628349",
     "status": "completed"
    },
    "tags": []
   },
   "outputs": [],
   "source": [
    "#Genero la clase\n",
    "dataset[,(kobjetivo) := as.integer(dataset[,..kclase_nomcampo] == kclase_valor_positivo)]\n",
    "\n",
    "#Limpio campos a borrar\n",
    "dataset[ ,  (kcampos_a_borrar) := NULL    ] \n",
    "\n",
    "#Completo missings\n",
    "dataset[is.na(dataset)] <- 0"
   ]
  },
  {
   "cell_type": "code",
   "execution_count": null,
   "metadata": {},
   "outputs": [],
   "source": [
    "# generacion del modelo\n",
    "formula  <-  formula(paste(kobjetivo, \"~ .\"))"
   ]
  },
  {
   "cell_type": "code",
   "execution_count": null,
   "metadata": {},
   "outputs": [],
   "source": [
    "train_rows <- createDataPartition(dataset$clase, p = .66, list = FALSE)\n",
    "\n",
    "#train_rows <- sample(1:nrow(dataset), .66 * nrow(dataset))\n",
    "train <- dataset[train_rows,]\n",
    "test <- dataset[-train_rows,]"
   ]
  },
  {
   "cell_type": "code",
   "execution_count": null,
   "metadata": {
    "papermill": {
     "duration": 56.333957,
     "end_time": "2020-09-04T19:01:51.065177",
     "exception": false,
     "start_time": "2020-09-04T19:00:54.731220",
     "status": "completed"
    },
    "tags": []
   },
   "outputs": [],
   "source": [
    "#Genero el modelo\n",
    "t0       <-  Sys.time()\n",
    "modelo   <-  rpart(formula,   data = train, maxdepth = 2,  cp=0,   xval=0)\n",
    "t1       <-  Sys.time()\n",
    "\n",
    "tcorrida <-  as.numeric( t1 - t0, units = \"secs\")\n",
    "print( tcorrida)"
   ]
  },
  {
   "cell_type": "code",
   "execution_count": null,
   "metadata": {
    "papermill": {
     "duration": 1.0663,
     "end_time": "2020-09-04T19:01:52.150467",
     "exception": false,
     "start_time": "2020-09-04T19:01:51.084167",
     "status": "completed"
    },
    "tags": []
   },
   "outputs": [],
   "source": [
    "#Evalúo sobre test\n",
    "predicted <- predict(modelo, test,) # predicted values"
   ]
  },
  {
   "cell_type": "code",
   "execution_count": null,
   "metadata": {
    "papermill": {
     "duration": 0.042756,
     "end_time": "2020-09-04T19:01:52.213056",
     "exception": false,
     "start_time": "2020-09-04T19:01:52.170300",
     "status": "completed"
    },
    "tags": []
   },
   "outputs": [],
   "source": [
    "#Detalles del modelo\n",
    "modelo"
   ]
  },
  {
   "cell_type": "code",
   "execution_count": null,
   "metadata": {
    "papermill": {
     "duration": 0.360185,
     "end_time": "2020-09-04T19:02:22.940847",
     "exception": false,
     "start_time": "2020-09-04T19:02:22.580662",
     "status": "completed"
    },
    "tags": []
   },
   "outputs": [],
   "source": [
    "#Arbol generado\n",
    "options(repr.plot.width=15, repr.plot.height=15)\n",
    "prp(modelo, extra=101, digits=5, branch=1, type=4, varlen=0, faclen=0, tweak=1.3)"
   ]
  },
  {
   "cell_type": "code",
   "execution_count": null,
   "metadata": {
    "papermill": {
     "duration": 0.293419,
     "end_time": "2020-09-04T19:02:23.863598",
     "exception": false,
     "start_time": "2020-09-04T19:02:23.570179",
     "status": "completed"
    },
    "tags": []
   },
   "outputs": [],
   "source": [
    "#Calculo ganancia sobre dataset de pruebas\n",
    "test$score <- predicted\n",
    "test$Predicted <- test$score > 0.025\n",
    "\n",
    "#Selecciono primeros N\n",
    "#seleccionar = 1400\n",
    "#top_n = order(-test$score)[1:seleccionar]\n",
    "#test[top_n,\"Predicted\"] <- 1\n",
    "\n",
    "#calculo la ganancia de incentivar cada caso\n",
    "test[  , ganancia:= kFPGain ] #-1250\n",
    "test[ clase==1,   ganancia:= kTPGain] #48750\n",
    "\n",
    "\n",
    "#Determino ganancia\n",
    "print(paste(\"La Ganancia es:\", 3*sum(test$Predicted*test$ganancia)))"
   ]
  },
  {
   "cell_type": "code",
   "execution_count": null,
   "metadata": {},
   "outputs": [],
   "source": [
    "#fwrite( test[,c('score','clase')], file=\"./salida_rpart_test.csv\", sep=\",\" )"
   ]
  },
  {
   "cell_type": "code",
   "execution_count": null,
   "metadata": {},
   "outputs": [],
   "source": [
    "#Calculo las metricas\n",
    "pred <- prediction(test$score, test$clase)\n",
    "\n",
    "#Calculo las metricas\n",
    "perf <- performance(pred, measure = \"tpr\", x.measure = \"fpr\")\n",
    "\n",
    "#Grafico la ROC\n",
    "plot(perf, col=rainbow(10))\n",
    "\n",
    "#Determino AUC\n",
    "performance( pred,\"auc\")@y.values"
   ]
  },
  {
   "cell_type": "code",
   "execution_count": null,
   "metadata": {
    "papermill": {
     "duration": 110.854829,
     "end_time": "2020-09-04T19:04:15.329508",
     "exception": false,
     "start_time": "2020-09-04T19:02:24.474679",
     "status": "completed"
    },
    "tags": []
   },
   "outputs": [],
   "source": [
    "#Genero el modelo sobre dataset completo\n",
    "\n",
    "t0       <-  Sys.time()\n",
    "modelo   <-  rpart(formula,   data = dataset, maxdepth = 2,  cp=0,   xval=0)\n",
    "t1       <-  Sys.time()\n",
    "\n",
    "tcorrida <-  as.numeric( t1 - t0, units = \"secs\")\n",
    "print( tcorrida)\n",
    "\n",
    "#Arbol generado\n",
    "options(repr.plot.width=15, repr.plot.height=15)\n",
    "prp(modelo, extra=101, digits=5, branch=1, type=4, varlen=0, faclen=0, tweak=1.3)"
   ]
  },
  {
   "cell_type": "code",
   "execution_count": null,
   "metadata": {
    "papermill": {
     "duration": 2.186041,
     "end_time": "2020-09-04T19:04:18.120606",
     "exception": false,
     "start_time": "2020-09-04T19:04:15.934565",
     "status": "completed"
    },
    "tags": []
   },
   "outputs": [],
   "source": [
    "#Leo datos a estimar\n",
    "dataset_pred <- fread(karchivo_predecir)\n",
    "\n",
    "\n",
    "#Genero la clase\n",
    "#dataset_pred[,(kobjetivo) := as.integer(dataset[,..kclase_nomcampo] == kclase_valor_positivo)]\n",
    "\n",
    "#Limpio campos a borrar\n",
    "#dataset_pred[ ,  (kcampos_a_borrar) := NULL    ] \n",
    "\n",
    "#campo fold por consistencia\n",
    "dataset_pred[ ,  fold := 0    ] \n",
    "\n",
    "prediccion  <- predict( modelo, dataset_pred ) #aplico el modelo"
   ]
  },
  {
   "cell_type": "code",
   "execution_count": null,
   "metadata": {
    "papermill": {
     "duration": 2.186041,
     "end_time": "2020-09-04T19:04:18.120606",
     "exception": false,
     "start_time": "2020-09-04T19:04:15.934565",
     "status": "completed"
    },
    "tags": []
   },
   "outputs": [],
   "source": [
    "dataset_pred[ , prob_baja := prediccion]\n",
    "dataset_pred[ , Predicted  := as.numeric(prob_baja > 0.025) ]\n",
    "\n",
    "entrega  <- dataset_pred[   , list(numero_de_cliente, Predicted) ] #genero la salida\n",
    "\n",
    "#genero el archivo para Kaggle\n",
    "fwrite( entrega, file=\"./salida_rpart.csv\", sep=\",\" )"
   ]
  },
  {
   "cell_type": "code",
   "execution_count": null,
   "metadata": {
    "papermill": {
     "duration": 0.195911,
     "end_time": "2020-09-04T19:04:21.274063",
     "exception": false,
     "start_time": "2020-09-04T19:04:21.078152",
     "status": "completed"
    },
    "tags": []
   },
   "outputs": [],
   "source": []
  },
  {
   "cell_type": "code",
   "execution_count": null,
   "metadata": {},
   "outputs": [],
   "source": []
  }
 ],
 "metadata": {
  "kernelspec": {
   "display_name": "R",
   "language": "R",
   "name": "ir"
  },
  "language_info": {
   "codemirror_mode": "r",
   "file_extension": ".r",
   "mimetype": "text/x-r-source",
   "name": "R",
   "pygments_lexer": "r",
   "version": "3.6.1"
  },
  "papermill": {
   "duration": 216.919775,
   "end_time": "2020-09-04T19:04:21.680072",
   "environment_variables": {},
   "exception": null,
   "input_path": "__notebook__.ipynb",
   "output_path": "__notebook__.ipynb",
   "parameters": {},
   "start_time": "2020-09-04T19:00:44.760297",
   "version": "2.1.2"
  }
 },
 "nbformat": 4,
 "nbformat_minor": 4
}
